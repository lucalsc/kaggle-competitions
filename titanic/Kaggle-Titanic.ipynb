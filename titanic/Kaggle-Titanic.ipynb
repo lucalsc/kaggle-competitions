{
 "cells": [
  {
   "cell_type": "markdown",
   "metadata": {},
   "source": [
    "### Titanic: Machine Learning from Disaster\n",
    "Nada mais justo do que realizar o \"Hello World\" do machine learning."
   ]
  },
  {
   "cell_type": "code",
   "execution_count": 65,
   "metadata": {},
   "outputs": [],
   "source": [
    "#Imports\n",
    "import numpy as np\n",
    "import pandas as pd\n",
    "import matplotlib.pyplot as plt\n",
    "import seaborn as sns\n",
    "import re\n",
    "import warnings\n",
    "from sklearn.preprocessing import LabelEncoder, StandardScaler\n",
    "from sklearn.linear_model import LogisticRegression\n",
    "from sklearn.model_selection import StratifiedKFold, train_test_split, cross_val_score, cross_validate\n",
    "from sklearn.metrics import classification_report\n",
    "from sklearn.ensemble import RandomForestClassifier\n",
    "from xgboost import XGBClassifier\n",
    "warnings.filterwarnings('ignore')\n",
    "%matplotlib inline"
   ]
  },
  {
   "cell_type": "markdown",
   "metadata": {},
   "source": [
    "Importando os dados"
   ]
  },
  {
   "cell_type": "code",
   "execution_count": 66,
   "metadata": {},
   "outputs": [
    {
     "name": "stdout",
     "output_type": "stream",
     "text": [
      "Treino: (891, 12)\n",
      "Teste: (418, 11)\n"
     ]
    }
   ],
   "source": [
    "df_train = pd.read_csv('train.csv')\n",
    "df_test = pd.read_csv('test.csv')\n",
    "\n",
    "print(f'Treino: {df_train.shape}')\n",
    "print(f'Teste: {df_test.shape}')"
   ]
  },
  {
   "cell_type": "markdown",
   "metadata": {},
   "source": [
    "#### Data Cleaning"
   ]
  },
  {
   "cell_type": "code",
   "execution_count": 67,
   "metadata": {},
   "outputs": [
    {
     "data": {
      "text/html": [
       "<div>\n",
       "<style scoped>\n",
       "    .dataframe tbody tr th:only-of-type {\n",
       "        vertical-align: middle;\n",
       "    }\n",
       "\n",
       "    .dataframe tbody tr th {\n",
       "        vertical-align: top;\n",
       "    }\n",
       "\n",
       "    .dataframe thead th {\n",
       "        text-align: right;\n",
       "    }\n",
       "</style>\n",
       "<table border=\"1\" class=\"dataframe\">\n",
       "  <thead>\n",
       "    <tr style=\"text-align: right;\">\n",
       "      <th></th>\n",
       "      <th>PassengerId</th>\n",
       "      <th>Survived</th>\n",
       "      <th>Pclass</th>\n",
       "      <th>Name</th>\n",
       "      <th>Sex</th>\n",
       "      <th>Age</th>\n",
       "      <th>SibSp</th>\n",
       "      <th>Parch</th>\n",
       "      <th>Ticket</th>\n",
       "      <th>Fare</th>\n",
       "      <th>Cabin</th>\n",
       "      <th>Embarked</th>\n",
       "    </tr>\n",
       "  </thead>\n",
       "  <tbody>\n",
       "    <tr>\n",
       "      <th>0</th>\n",
       "      <td>1</td>\n",
       "      <td>0</td>\n",
       "      <td>3</td>\n",
       "      <td>Braund, Mr. Owen Harris</td>\n",
       "      <td>male</td>\n",
       "      <td>22.0</td>\n",
       "      <td>1</td>\n",
       "      <td>0</td>\n",
       "      <td>A/5 21171</td>\n",
       "      <td>7.2500</td>\n",
       "      <td>NaN</td>\n",
       "      <td>S</td>\n",
       "    </tr>\n",
       "    <tr>\n",
       "      <th>1</th>\n",
       "      <td>2</td>\n",
       "      <td>1</td>\n",
       "      <td>1</td>\n",
       "      <td>Cumings, Mrs. John Bradley (Florence Briggs Th...</td>\n",
       "      <td>female</td>\n",
       "      <td>38.0</td>\n",
       "      <td>1</td>\n",
       "      <td>0</td>\n",
       "      <td>PC 17599</td>\n",
       "      <td>71.2833</td>\n",
       "      <td>C85</td>\n",
       "      <td>C</td>\n",
       "    </tr>\n",
       "    <tr>\n",
       "      <th>2</th>\n",
       "      <td>3</td>\n",
       "      <td>1</td>\n",
       "      <td>3</td>\n",
       "      <td>Heikkinen, Miss. Laina</td>\n",
       "      <td>female</td>\n",
       "      <td>26.0</td>\n",
       "      <td>0</td>\n",
       "      <td>0</td>\n",
       "      <td>STON/O2. 3101282</td>\n",
       "      <td>7.9250</td>\n",
       "      <td>NaN</td>\n",
       "      <td>S</td>\n",
       "    </tr>\n",
       "    <tr>\n",
       "      <th>3</th>\n",
       "      <td>4</td>\n",
       "      <td>1</td>\n",
       "      <td>1</td>\n",
       "      <td>Futrelle, Mrs. Jacques Heath (Lily May Peel)</td>\n",
       "      <td>female</td>\n",
       "      <td>35.0</td>\n",
       "      <td>1</td>\n",
       "      <td>0</td>\n",
       "      <td>113803</td>\n",
       "      <td>53.1000</td>\n",
       "      <td>C123</td>\n",
       "      <td>S</td>\n",
       "    </tr>\n",
       "    <tr>\n",
       "      <th>4</th>\n",
       "      <td>5</td>\n",
       "      <td>0</td>\n",
       "      <td>3</td>\n",
       "      <td>Allen, Mr. William Henry</td>\n",
       "      <td>male</td>\n",
       "      <td>35.0</td>\n",
       "      <td>0</td>\n",
       "      <td>0</td>\n",
       "      <td>373450</td>\n",
       "      <td>8.0500</td>\n",
       "      <td>NaN</td>\n",
       "      <td>S</td>\n",
       "    </tr>\n",
       "  </tbody>\n",
       "</table>\n",
       "</div>"
      ],
      "text/plain": [
       "   PassengerId  Survived  Pclass  \\\n",
       "0            1         0       3   \n",
       "1            2         1       1   \n",
       "2            3         1       3   \n",
       "3            4         1       1   \n",
       "4            5         0       3   \n",
       "\n",
       "                                                Name     Sex   Age  SibSp  \\\n",
       "0                            Braund, Mr. Owen Harris    male  22.0      1   \n",
       "1  Cumings, Mrs. John Bradley (Florence Briggs Th...  female  38.0      1   \n",
       "2                             Heikkinen, Miss. Laina  female  26.0      0   \n",
       "3       Futrelle, Mrs. Jacques Heath (Lily May Peel)  female  35.0      1   \n",
       "4                           Allen, Mr. William Henry    male  35.0      0   \n",
       "\n",
       "   Parch            Ticket     Fare Cabin Embarked  \n",
       "0      0         A/5 21171   7.2500   NaN        S  \n",
       "1      0          PC 17599  71.2833   C85        C  \n",
       "2      0  STON/O2. 3101282   7.9250   NaN        S  \n",
       "3      0            113803  53.1000  C123        S  \n",
       "4      0            373450   8.0500   NaN        S  "
      ]
     },
     "execution_count": 67,
     "metadata": {},
     "output_type": "execute_result"
    }
   ],
   "source": [
    "df_train.head()"
   ]
  },
  {
   "cell_type": "code",
   "execution_count": 68,
   "metadata": {},
   "outputs": [
    {
     "data": {
      "text/html": [
       "<div>\n",
       "<style scoped>\n",
       "    .dataframe tbody tr th:only-of-type {\n",
       "        vertical-align: middle;\n",
       "    }\n",
       "\n",
       "    .dataframe tbody tr th {\n",
       "        vertical-align: top;\n",
       "    }\n",
       "\n",
       "    .dataframe thead th {\n",
       "        text-align: right;\n",
       "    }\n",
       "</style>\n",
       "<table border=\"1\" class=\"dataframe\">\n",
       "  <thead>\n",
       "    <tr style=\"text-align: right;\">\n",
       "      <th></th>\n",
       "      <th>PassengerId</th>\n",
       "      <th>Pclass</th>\n",
       "      <th>Name</th>\n",
       "      <th>Sex</th>\n",
       "      <th>Age</th>\n",
       "      <th>SibSp</th>\n",
       "      <th>Parch</th>\n",
       "      <th>Ticket</th>\n",
       "      <th>Fare</th>\n",
       "      <th>Cabin</th>\n",
       "      <th>Embarked</th>\n",
       "    </tr>\n",
       "  </thead>\n",
       "  <tbody>\n",
       "    <tr>\n",
       "      <th>0</th>\n",
       "      <td>892</td>\n",
       "      <td>3</td>\n",
       "      <td>Kelly, Mr. James</td>\n",
       "      <td>male</td>\n",
       "      <td>34.5</td>\n",
       "      <td>0</td>\n",
       "      <td>0</td>\n",
       "      <td>330911</td>\n",
       "      <td>7.8292</td>\n",
       "      <td>NaN</td>\n",
       "      <td>Q</td>\n",
       "    </tr>\n",
       "    <tr>\n",
       "      <th>1</th>\n",
       "      <td>893</td>\n",
       "      <td>3</td>\n",
       "      <td>Wilkes, Mrs. James (Ellen Needs)</td>\n",
       "      <td>female</td>\n",
       "      <td>47.0</td>\n",
       "      <td>1</td>\n",
       "      <td>0</td>\n",
       "      <td>363272</td>\n",
       "      <td>7.0000</td>\n",
       "      <td>NaN</td>\n",
       "      <td>S</td>\n",
       "    </tr>\n",
       "    <tr>\n",
       "      <th>2</th>\n",
       "      <td>894</td>\n",
       "      <td>2</td>\n",
       "      <td>Myles, Mr. Thomas Francis</td>\n",
       "      <td>male</td>\n",
       "      <td>62.0</td>\n",
       "      <td>0</td>\n",
       "      <td>0</td>\n",
       "      <td>240276</td>\n",
       "      <td>9.6875</td>\n",
       "      <td>NaN</td>\n",
       "      <td>Q</td>\n",
       "    </tr>\n",
       "    <tr>\n",
       "      <th>3</th>\n",
       "      <td>895</td>\n",
       "      <td>3</td>\n",
       "      <td>Wirz, Mr. Albert</td>\n",
       "      <td>male</td>\n",
       "      <td>27.0</td>\n",
       "      <td>0</td>\n",
       "      <td>0</td>\n",
       "      <td>315154</td>\n",
       "      <td>8.6625</td>\n",
       "      <td>NaN</td>\n",
       "      <td>S</td>\n",
       "    </tr>\n",
       "    <tr>\n",
       "      <th>4</th>\n",
       "      <td>896</td>\n",
       "      <td>3</td>\n",
       "      <td>Hirvonen, Mrs. Alexander (Helga E Lindqvist)</td>\n",
       "      <td>female</td>\n",
       "      <td>22.0</td>\n",
       "      <td>1</td>\n",
       "      <td>1</td>\n",
       "      <td>3101298</td>\n",
       "      <td>12.2875</td>\n",
       "      <td>NaN</td>\n",
       "      <td>S</td>\n",
       "    </tr>\n",
       "  </tbody>\n",
       "</table>\n",
       "</div>"
      ],
      "text/plain": [
       "   PassengerId  Pclass                                          Name     Sex  \\\n",
       "0          892       3                              Kelly, Mr. James    male   \n",
       "1          893       3              Wilkes, Mrs. James (Ellen Needs)  female   \n",
       "2          894       2                     Myles, Mr. Thomas Francis    male   \n",
       "3          895       3                              Wirz, Mr. Albert    male   \n",
       "4          896       3  Hirvonen, Mrs. Alexander (Helga E Lindqvist)  female   \n",
       "\n",
       "    Age  SibSp  Parch   Ticket     Fare Cabin Embarked  \n",
       "0  34.5      0      0   330911   7.8292   NaN        Q  \n",
       "1  47.0      1      0   363272   7.0000   NaN        S  \n",
       "2  62.0      0      0   240276   9.6875   NaN        Q  \n",
       "3  27.0      0      0   315154   8.6625   NaN        S  \n",
       "4  22.0      1      1  3101298  12.2875   NaN        S  "
      ]
     },
     "execution_count": 68,
     "metadata": {},
     "output_type": "execute_result"
    }
   ],
   "source": [
    "df_test.head()"
   ]
  },
  {
   "cell_type": "markdown",
   "metadata": {},
   "source": [
    "**Missing Values**"
   ]
  },
  {
   "cell_type": "code",
   "execution_count": 69,
   "metadata": {},
   "outputs": [
    {
     "name": "stdout",
     "output_type": "stream",
     "text": [
      "Train Dataframe \n",
      "\n",
      "PassengerId      0\n",
      "Survived         0\n",
      "Pclass           0\n",
      "Name             0\n",
      "Sex              0\n",
      "Age            177\n",
      "SibSp            0\n",
      "Parch            0\n",
      "Ticket           0\n",
      "Fare             0\n",
      "Cabin          687\n",
      "Embarked         2\n",
      "dtype: int64\n",
      "\n",
      "Test Dataframe \n",
      "\n",
      "PassengerId      0\n",
      "Pclass           0\n",
      "Name             0\n",
      "Sex              0\n",
      "Age             86\n",
      "SibSp            0\n",
      "Parch            0\n",
      "Ticket           0\n",
      "Fare             1\n",
      "Cabin          327\n",
      "Embarked         0\n",
      "dtype: int64\n"
     ]
    }
   ],
   "source": [
    "print('Train Dataframe \\n')\n",
    "print(df_train.isnull().sum())\n",
    "print('\\nTest Dataframe \\n' )\n",
    "print(df_test.isnull().sum())"
   ]
  },
  {
   "cell_type": "markdown",
   "metadata": {},
   "source": [
    "Quatro features apresentam valores nulos: Age, Cabin, Embarked e Fare. Existem diversas abordagens para tratar esses dados, porém, a abordagem adotada será:\n",
    "- Preencher os valores nulos de Age pela média de idade de acordo com o PClass do passageiro\n",
    "- Tentar extrair informações de Cabin (situação crítica), em caso de falha iremos abandonar essa feature.\n",
    "- Preencher Embarked com o valor mais frequente.\n",
    "- Preencher Fare com o valor mais frequente."
   ]
  },
  {
   "cell_type": "code",
   "execution_count": 70,
   "metadata": {},
   "outputs": [
    {
     "name": "stdout",
     "output_type": "stream",
     "text": [
      "Train Dataframe \n",
      "\n",
      "PassengerId      0\n",
      "Survived         0\n",
      "Pclass           0\n",
      "Name             0\n",
      "Sex              0\n",
      "Age              0\n",
      "SibSp            0\n",
      "Parch            0\n",
      "Ticket           0\n",
      "Fare             0\n",
      "Cabin          687\n",
      "Embarked         2\n",
      "dtype: int64\n",
      "\n",
      "Test Dataframe \n",
      "\n",
      "PassengerId      0\n",
      "Pclass           0\n",
      "Name             0\n",
      "Sex              0\n",
      "Age              0\n",
      "SibSp            0\n",
      "Parch            0\n",
      "Ticket           0\n",
      "Fare             1\n",
      "Cabin          327\n",
      "Embarked         0\n",
      "dtype: int64\n"
     ]
    }
   ],
   "source": [
    "#Input age\n",
    "def age_input(x, df):\n",
    "    age_map = df.groupby('Pclass').mean()['Age']\n",
    "    \n",
    "    if x['Pclass'] == 1:\n",
    "        return np.round(age_map[1])\n",
    "    elif x['Pclass'] == 2:\n",
    "        return np.round(age_map[2])\n",
    "    else:\n",
    "        return np.round(age_map[3])\n",
    "    \n",
    "#Aplicando a função em Age\n",
    "#Salvando a distribuição atual de idade\n",
    "old_train_age = df_train.Age\n",
    "old_test_age = df_test.Age\n",
    "\n",
    "#Aplicando\n",
    "df_train.loc[df_train.Age.isnull(), 'Age'] = df_train.loc[df_train.Age.isnull()].apply(lambda x: age_input(x, df_train), axis = 1)\n",
    "df_test.loc[df_test.Age.isnull(), 'Age'] = df_test.loc[df_test.Age.isnull()].apply(lambda x: age_input(x, df_test), axis = 1)\n",
    "\n",
    "#Conferindo resultado\n",
    "\n",
    "print('Train Dataframe \\n')\n",
    "print(df_train.isnull().sum())\n",
    "print('\\nTest Dataframe \\n' )\n",
    "print(df_test.isnull().sum())"
   ]
  },
  {
   "cell_type": "code",
   "execution_count": 71,
   "metadata": {},
   "outputs": [
    {
     "data": {
      "text/plain": [
       "(891, 12)"
      ]
     },
     "execution_count": 71,
     "metadata": {},
     "output_type": "execute_result"
    }
   ],
   "source": [
    "df_train.shape"
   ]
  },
  {
   "cell_type": "markdown",
   "metadata": {},
   "source": [
    "Antes de continuar com a limpeza de valores nulos, vamos avaliar o impacto das mudanças que realizamos em idade."
   ]
  },
  {
   "cell_type": "code",
   "execution_count": 72,
   "metadata": {},
   "outputs": [
    {
     "data": {
      "image/png": "[encoded data removed]",
      "text/plain": [
       "<Figure size 936x720 with 4 Axes>"
      ]
     },
     "metadata": {
      "needs_background": "light"
     },
     "output_type": "display_data"
    }
   ],
   "source": [
    "fig, ax = plt.subplots(2,2,figsize=(13,10))\n",
    "sns.distplot(old_train_age,ax = ax[0,0])\n",
    "sns.distplot(df_train.Age, ax = ax[0,1])\n",
    "ax[0,0].set_title('Treino: Distribuição Original')\n",
    "ax[0,1].set_title('Treino: Distribuição após imputação de valores')\n",
    "sns.distplot(old_test_age,ax = ax[1,0])\n",
    "sns.distplot(df_test.Age, ax = ax[1,1])\n",
    "ax[1,0].set_title('Teste: Distribuição Original')\n",
    "ax[1,1].set_title('Teste: Distribuição após imputação de valores')\n",
    "plt.show()"
   ]
  },
  {
   "cell_type": "markdown",
   "metadata": {},
   "source": [
    "##### Cabin\n",
    "Cabin é a variável com maior número de valores faltantes, porém, vamos tentar realizar alguns procedimentos para tentar \"salvar\" essa feature. A abordagem utilizada será a de que pessoas da mesma família habitam a mesma cabine."
   ]
  },
  {
   "cell_type": "code",
   "execution_count": 73,
   "metadata": {},
   "outputs": [
    {
     "data": {
      "text/html": [
       "<div>\n",
       "<style scoped>\n",
       "    .dataframe tbody tr th:only-of-type {\n",
       "        vertical-align: middle;\n",
       "    }\n",
       "\n",
       "    .dataframe tbody tr th {\n",
       "        vertical-align: top;\n",
       "    }\n",
       "\n",
       "    .dataframe thead th {\n",
       "        text-align: right;\n",
       "    }\n",
       "</style>\n",
       "<table border=\"1\" class=\"dataframe\">\n",
       "  <thead>\n",
       "    <tr style=\"text-align: right;\">\n",
       "      <th></th>\n",
       "      <th>Cabin</th>\n",
       "      <th>Surname</th>\n",
       "    </tr>\n",
       "  </thead>\n",
       "  <tbody>\n",
       "    <tr>\n",
       "      <th>1</th>\n",
       "      <td>C85</td>\n",
       "      <td>Cumings</td>\n",
       "    </tr>\n",
       "    <tr>\n",
       "      <th>3</th>\n",
       "      <td>C123</td>\n",
       "      <td>Futrelle</td>\n",
       "    </tr>\n",
       "    <tr>\n",
       "      <th>6</th>\n",
       "      <td>E46</td>\n",
       "      <td>McCarthy</td>\n",
       "    </tr>\n",
       "    <tr>\n",
       "      <th>10</th>\n",
       "      <td>G6</td>\n",
       "      <td>Sandstrom</td>\n",
       "    </tr>\n",
       "    <tr>\n",
       "      <th>11</th>\n",
       "      <td>C103</td>\n",
       "      <td>Bonnell</td>\n",
       "    </tr>\n",
       "  </tbody>\n",
       "</table>\n",
       "</div>"
      ],
      "text/plain": [
       "   Cabin    Surname\n",
       "1    C85    Cumings\n",
       "3   C123   Futrelle\n",
       "6    E46   McCarthy\n",
       "10    G6  Sandstrom\n",
       "11  C103    Bonnell"
      ]
     },
     "execution_count": 73,
     "metadata": {},
     "output_type": "execute_result"
    }
   ],
   "source": [
    "#Criando feature de sobrenomes\n",
    "def create_surname(df):\n",
    "    df['Surname'] = df.Name.apply(lambda x: re.search('\\w+', x)[0])\n",
    "    return df\n",
    "\n",
    "#Agora, podemos extrair informações a respeito de Cabines e Sobrenomes\n",
    "surname_data = create_surname(df_train.loc[df_train.Cabin.notnull(),:])[['Cabin', 'Surname']]\n",
    "surname_data.head()"
   ]
  },
  {
   "cell_type": "code",
   "execution_count": 74,
   "metadata": {},
   "outputs": [
    {
     "name": "stdout",
     "output_type": "stream",
     "text": [
      "Original: (204, 2)\n",
      "Após drop de duplicatas: (157, 2)\n"
     ]
    }
   ],
   "source": [
    "#Vamos remover as cabines duplicadas.\n",
    "print(f'Original: {surname_data.shape}')\n",
    "surname_data.drop_duplicates(subset = 'Surname',inplace=True)\n",
    "print(f'Após drop de duplicatas: {surname_data.shape}')"
   ]
  },
  {
   "cell_type": "code",
   "execution_count": 75,
   "metadata": {},
   "outputs": [
    {
     "data": {
      "text/plain": [
       "PassengerId      0\n",
       "Survived         0\n",
       "Pclass           0\n",
       "Name             0\n",
       "Sex              0\n",
       "Age              0\n",
       "SibSp            0\n",
       "Parch            0\n",
       "Ticket           0\n",
       "Fare             0\n",
       "Embarked         2\n",
       "Surname          0\n",
       "Cabin          660\n",
       "dtype: int64"
      ]
     },
     "execution_count": 75,
     "metadata": {},
     "output_type": "execute_result"
    }
   ],
   "source": [
    "#Fazendo join em nosso dataframe original\n",
    "#Criando surnames\n",
    "df_train = create_surname(df_train)\n",
    "#Dropando Cabin atual\n",
    "df_train.drop('Cabin', axis = 1, inplace = True)\n",
    "#Realizando join\n",
    "df_train = df_train.merge(surname_data, on = 'Surname', how = 'left')\n",
    "\n",
    "#Extraindo a classe da cabine\n",
    "df_train.loc[df_train.Cabin.notnull(), 'Cabin'] = df_train.loc[df_train.Cabin.notnull(), 'Cabin'].apply(lambda x: x[0])\n",
    "#Conferindo o resultado\n",
    "df_train.isnull().sum()"
   ]
  },
  {
   "cell_type": "markdown",
   "metadata": {},
   "source": [
    "Infelizmente a abordagem não surtiu grandes resultados. Para manter Cabin em nossa modelagem, iremos atribuir \"Z\" para as cabines nulas."
   ]
  },
  {
   "cell_type": "code",
   "execution_count": 76,
   "metadata": {},
   "outputs": [
    {
     "data": {
      "text/plain": [
       "PassengerId    0\n",
       "Survived       0\n",
       "Pclass         0\n",
       "Name           0\n",
       "Sex            0\n",
       "Age            0\n",
       "SibSp          0\n",
       "Parch          0\n",
       "Ticket         0\n",
       "Fare           0\n",
       "Embarked       2\n",
       "Surname        0\n",
       "Cabin          0\n",
       "dtype: int64"
      ]
     },
     "execution_count": 76,
     "metadata": {},
     "output_type": "execute_result"
    }
   ],
   "source": [
    "df_train['Cabin'] = df_train.Cabin.fillna('Z')\n",
    "df_train.isnull().sum()"
   ]
  },
  {
   "cell_type": "code",
   "execution_count": 77,
   "metadata": {},
   "outputs": [
    {
     "data": {
      "text/plain": [
       "PassengerId    0\n",
       "Pclass         0\n",
       "Name           0\n",
       "Sex            0\n",
       "Age            0\n",
       "SibSp          0\n",
       "Parch          0\n",
       "Ticket         0\n",
       "Fare           1\n",
       "Embarked       0\n",
       "Surname        0\n",
       "Cabin          0\n",
       "dtype: int64"
      ]
     },
     "execution_count": 77,
     "metadata": {},
     "output_type": "execute_result"
    }
   ],
   "source": [
    "#Aplicando todos os procedimentos anteriores para os dados de teste.\n",
    "\n",
    "surname_data = create_surname(df_test.loc[df_test.Cabin.notnull(),:])[['Cabin', 'Surname']]\n",
    "surname_data.drop_duplicates(subset = 'Surname', inplace=True)\n",
    "#Criando surnames\n",
    "df_test = create_surname(df_test)\n",
    "#Dropando Cabin atual\n",
    "df_test.drop('Cabin', axis = 1, inplace = True)\n",
    "#Realizando join\n",
    "df_test = df_test.merge(surname_data, on = 'Surname', how = 'left')\n",
    "df_test.loc[df_test.Cabin.notnull(), 'Cabin'] = df_test.loc[df_test.Cabin.notnull(), 'Cabin'].apply(lambda x: x[0])\n",
    "df_test['Cabin'] = df_test.Cabin.fillna('Z')\n",
    "#Conferindo o resultado\n",
    "df_test.isnull().sum()\n"
   ]
  },
  {
   "cell_type": "markdown",
   "metadata": {},
   "source": [
    "##### Flare and Embarked\n",
    "Treino possui 2 registros faltantes em Embarked, Teste possui 1 registro faltante em Fare"
   ]
  },
  {
   "cell_type": "code",
   "execution_count": 78,
   "metadata": {},
   "outputs": [
    {
     "name": "stdout",
     "output_type": "stream",
     "text": [
      "Train Dataframe \n",
      "\n",
      "PassengerId    0\n",
      "Survived       0\n",
      "Pclass         0\n",
      "Name           0\n",
      "Sex            0\n",
      "Age            0\n",
      "SibSp          0\n",
      "Parch          0\n",
      "Ticket         0\n",
      "Fare           0\n",
      "Embarked       0\n",
      "Surname        0\n",
      "Cabin          0\n",
      "dtype: int64\n",
      "\n",
      "Test Dataframe \n",
      "\n",
      "PassengerId    0\n",
      "Pclass         0\n",
      "Name           0\n",
      "Sex            0\n",
      "Age            0\n",
      "SibSp          0\n",
      "Parch          0\n",
      "Ticket         0\n",
      "Fare           0\n",
      "Embarked       0\n",
      "Surname        0\n",
      "Cabin          0\n",
      "dtype: int64\n"
     ]
    }
   ],
   "source": [
    "#Embarked\n",
    "#Valor mais frequente\n",
    "#df_train.groupby('Embarked').count()\n",
    "#S é a classe predominante.\n",
    "df_train['Embarked'] = df_train.Embarked.fillna('S')\n",
    "\n",
    "#Fare\n",
    "df_test['Fare'] = df_test.Fare.fillna(df_test.Fare.mean())\n",
    "\n",
    "#Visualizando\n",
    "print('Train Dataframe \\n')\n",
    "print(df_train.isnull().sum())\n",
    "print('\\nTest Dataframe \\n' )\n",
    "print(df_test.isnull().sum())\n"
   ]
  },
  {
   "cell_type": "markdown",
   "metadata": {},
   "source": [
    "### EDA\n",
    "Todo mundo gosta de gráficos, vamos começar analisando os sobreviventes."
   ]
  },
  {
   "cell_type": "code",
   "execution_count": 79,
   "metadata": {},
   "outputs": [
    {
     "data": {
      "image/png": "[encoded data removed]",
      "text/plain": [
       "<Figure size 432x288 with 1 Axes>"
      ]
     },
     "metadata": {
      "needs_background": "light"
     },
     "output_type": "display_data"
    }
   ],
   "source": [
    "#Survival rate\n",
    "#Structure\n",
    "fig, ax = plt.subplots()\n",
    "survival_rate = np.round((df_train.groupby('Survived').count()['Pclass'] / len(df_train)) * 100, 1)\n",
    "survival_rate.plot(kind='bar', color = ['#EE4266', '#20BF55'])\n",
    "#Labels\n",
    "ax.set_xticklabels(['Não Sobreviveu', 'Sobreviveu'], rotation = 0, fontsize = 10)\n",
    "ax.set_ylabel('Porcentagem')\n",
    "ax.set_xlabel('')\n",
    "plt.show()"
   ]
  },
  {
   "cell_type": "code",
   "execution_count": 80,
   "metadata": {},
   "outputs": [
    {
     "data": {
      "image/png": "[encoded data removed]",
      "text/plain": [
       "<Figure size 864x432 with 2 Axes>"
      ]
     },
     "metadata": {
      "needs_background": "light"
     },
     "output_type": "display_data"
    }
   ],
   "source": [
    "#Survival Rate por Sexo\n",
    "fig, ax = plt.subplots(1,2,figsize=(12,6))\n",
    "#Data\n",
    "s_h = np.round((df_train.loc[df_train.Sex == 'male'].groupby('Survived').count()['Pclass'] / len(df_train.loc[df_train.Sex == 'male'])) * 100, 1)\n",
    "s_m = np.round((df_train.loc[df_train.Sex == 'female'].groupby('Survived').count()['Pclass'] / len(df_train.loc[df_train.Sex == 'female'])) * 100, 1)\n",
    "\n",
    "#Plots\n",
    "s_h.plot(kind='bar', color = ['#EE4266', '#20BF55'], ax = ax[0])\n",
    "s_m.plot(kind='bar', color = ['#EE4266', '#20BF55'], ax = ax[1])\n",
    "\n",
    "#Labels\n",
    "ax[0].set_xticklabels(['Não Sobreviveu', 'Sobreviveu'], rotation = 0, fontsize = 10)\n",
    "ax[0].set_ylabel('Porcentagem')\n",
    "ax[0].set_xlabel('')\n",
    "ax[0].set_title('Taxa de sobrevivência Masculina')\n",
    "ax[0].set_ylim([0,90])\n",
    "\n",
    "ax[1].set_xticklabels(['Não Sobreviveu', 'Sobreviveu'], rotation = 0, fontsize = 10)\n",
    "ax[1].set_xlabel('')\n",
    "ax[1].set_title('Taxa de sobrevivência Feminina')\n",
    "ax[1].set_ylim([0,90])\n",
    "\n",
    "plt.show()"
   ]
  },
  {
   "cell_type": "code",
   "execution_count": 81,
   "metadata": {},
   "outputs": [
    {
     "data": {
      "image/png": "[encoded data removed]",
      "text/plain": [
       "<Figure size 720x432 with 1 Axes>"
      ]
     },
     "metadata": {
      "needs_background": "light"
     },
     "output_type": "display_data"
    }
   ],
   "source": [
    "#% de Sobreviventes por PClass\n",
    "#Data\n",
    "s_pclass = (df_train.groupby('Pclass').apply(lambda x: x.loc[x.Survived == 1].count()['Cabin'] / len(x))) * 100\n",
    "\n",
    "#Plot\n",
    "fig, ax = plt.subplots(figsize=(10,6))\n",
    "s_pclass.plot(kind='bar', color = ['#2C3833', '#59654E', '#968C59'], ax = ax)\n",
    "ax.set_xticklabels(['Primeira classe', 'Segunda classe', 'Terceira classe'], rotation = 0, fontsize = 12)\n",
    "ax.set_xlabel('')\n",
    "ax.set_ylabel('% de Sobrevivência', fontsize = 12)\n",
    "plt.show()"
   ]
  },
  {
   "cell_type": "code",
   "execution_count": 82,
   "metadata": {},
   "outputs": [
    {
     "data": {
      "image/png": "[encoded data removed]",
      "text/plain": [
       "<Figure size 432x288 with 1 Axes>"
      ]
     },
     "metadata": {
      "needs_background": "light"
     },
     "output_type": "display_data"
    }
   ],
   "source": [
    "fig,ax = plt.subplots()\n",
    "sns.distplot(df_train.loc[df_train.Survived == 1, 'Age'])\n",
    "ax.set_title('Distribuição de sobreviventes x Idade')\n",
    "ax.set_xlabel('Idade')\n",
    "plt.show()"
   ]
  },
  {
   "cell_type": "markdown",
   "metadata": {},
   "source": [
    "Os gráficos acima permitem concluir algumas coisas interessantes:\n",
    "- Em termos gerais, apenas 40% dos tripulantes  a bordo do Titanic sobreviveram a tragédia.\n",
    "- A taxa de sobrevivência das mulheres supera com folga a taxa de sobrevivência dos homens (O que faz sentido, visto que elas tinham prioridade no salvamento)\n",
    "- A taxa de sobrevivência aumenta de acordo com a classe, sendo que a primeira classe é a unica classe que teve uma taxa de sobrevivência positiva (Cerca de 60% dos membros da primeira classe sobreviveram)\n",
    "- Existe um pico de sobreviventes em faixas etárias menores (Bebês/crianças)"
   ]
  },
  {
   "cell_type": "code",
   "execution_count": 83,
   "metadata": {},
   "outputs": [
    {
     "data": {
      "text/plain": [
       "<matplotlib.legend.Legend at 0x1fe1ca92a08>"
      ]
     },
     "execution_count": 83,
     "metadata": {},
     "output_type": "execute_result"
    },
    {
     "data": {
      "image/png": "[encoded data removed]",
      "text/plain": [
       "<Figure size 1080x432 with 1 Axes>"
      ]
     },
     "metadata": {
      "needs_background": "light"
     },
     "output_type": "display_data"
    }
   ],
   "source": [
    "#Distribuição de fare\n",
    "fig,ax = plt.subplots(figsize = (15,6))\n",
    "sns.distplot(df_train.Fare, ax = ax, bins = 100)\n",
    "sns.distplot(df_test.Fare, ax = ax, bins = 100)\n",
    "ax.set_xlim((-20,300))\n",
    "ax.legend(['Treino', 'Teste'])"
   ]
  },
  {
   "cell_type": "code",
   "execution_count": 84,
   "metadata": {},
   "outputs": [
    {
     "data": {
      "text/plain": [
       "Text(0.5, 1.0, 'Fare x Classe - Teste')"
      ]
     },
     "execution_count": 84,
     "metadata": {},
     "output_type": "execute_result"
    },
    {
     "data": {
      "image/png": "[encoded data removed]",
      "text/plain": [
       "<Figure size 1080x432 with 2 Axes>"
      ]
     },
     "metadata": {
      "needs_background": "light"
     },
     "output_type": "display_data"
    }
   ],
   "source": [
    "#Fare por PClass\n",
    "fig,ax = plt.subplots(1,2,figsize=(15,6))\n",
    "sns.boxplot(x = 'Pclass', y = 'Fare', data = df_train, ax = ax[0])\n",
    "sns.boxplot(x = 'Pclass', y = 'Fare', data = df_test, ax = ax[1])\n",
    "ax[0].set_title('Fare x Classe - Treino')\n",
    "ax[0].set_title('Fare x Classe - Teste')\n"
   ]
  },
  {
   "cell_type": "markdown",
   "metadata": {},
   "source": [
    "#### Feature Engineering"
   ]
  },
  {
   "cell_type": "code",
   "execution_count": 85,
   "metadata": {},
   "outputs": [
    {
     "name": "stdout",
     "output_type": "stream",
     "text": [
      "PassengerId      int64\n",
      "Survived         int64\n",
      "Pclass           int64\n",
      "Name            object\n",
      "Sex             object\n",
      "Age            float64\n",
      "SibSp            int64\n",
      "Parch            int64\n",
      "Ticket          object\n",
      "Fare           float64\n",
      "Embarked        object\n",
      "Surname         object\n",
      "Cabin           object\n",
      "dtype: object\n",
      "\n",
      "PassengerId      int64\n",
      "Pclass           int64\n",
      "Name            object\n",
      "Sex             object\n",
      "Age            float64\n",
      "SibSp            int64\n",
      "Parch            int64\n",
      "Ticket          object\n",
      "Fare           float64\n",
      "Embarked        object\n",
      "Surname         object\n",
      "Cabin           object\n",
      "dtype: object\n"
     ]
    }
   ],
   "source": [
    "#dtypes\n",
    "print(df_train.dtypes)\n",
    "print('')\n",
    "print(df_test.dtypes)"
   ]
  },
  {
   "cell_type": "markdown",
   "metadata": {},
   "source": [
    "##### Criando Features\n",
    "Iremos criar duas features:\n",
    "- treat: Tratamento utilizado (Extraido do nome).\n",
    "- is_alone: Indica se a pessoa estava sozinha no navio."
   ]
  },
  {
   "cell_type": "code",
   "execution_count": 86,
   "metadata": {},
   "outputs": [
    {
     "name": "stdout",
     "output_type": "stream",
     "text": [
      "True\n",
      "(1309, 13)\n"
     ]
    }
   ],
   "source": [
    "#Juntando dataframes\n",
    "labels = df_train.Survived\n",
    "df_train.drop('Survived', axis = 1, inplace = True)\n",
    "df_train['Tipo'] = 'train'\n",
    "df_test['Tipo'] = 'test'\n",
    "\n",
    "#Verificando\n",
    "print(df_train.shape[1] == df_test.shape[1])\n",
    "\n",
    "#Realizando concat\n",
    "df_full = pd.concat([df_train, df_test],axis = 0, sort = False)\n",
    "print(df_full.shape)"
   ]
  },
  {
   "cell_type": "code",
   "execution_count": 87,
   "metadata": {},
   "outputs": [
    {
     "data": {
      "text/plain": [
       "array(['Mr.', 'Mrs.', 'Miss.', 'Master.', 'Don.', 'Rev.', 'Dr.', 'Mme.',\n",
       "       'Ms.', 'Major.', 'Lady.', 'Sir.', 'Mlle.', 'Col.', 'Capt.',\n",
       "       'Countess.', 'Jonkheer.', 'Dona.'], dtype=object)"
      ]
     },
     "execution_count": 87,
     "metadata": {},
     "output_type": "execute_result"
    }
   ],
   "source": [
    "#Criando variável - Treatment (Qual o tratamento utilizado)\n",
    "\n",
    "def create_treatment(dataframes):\n",
    "    for dataframe in dataframes:\n",
    "        dataframe['treat'] = dataframe.Name.apply(lambda x: re.search('\\w+\\.', x)[0])\n",
    "\n",
    "#Aplicando a função\n",
    "create_treatment([df_full])\n",
    "\n",
    "#Verificando o resultado\n",
    "df_full.treat.unique()\n"
   ]
  },
  {
   "cell_type": "code",
   "execution_count": 88,
   "metadata": {},
   "outputs": [
    {
     "data": {
      "text/plain": [
       "array([0, 1], dtype=int64)"
      ]
     },
     "execution_count": 88,
     "metadata": {},
     "output_type": "execute_result"
    }
   ],
   "source": [
    "#Criando variável - is_alone (A pessoa estava sozinha?)\n",
    "\n",
    "#Definindo funções\n",
    "def is_alone(x):\n",
    "    if (x['SibSp'] == 0) & (x['Parch'] == 0):\n",
    "        return 1\n",
    "    else:\n",
    "        return 0\n",
    "\n",
    "def create_alone(dataframes):\n",
    "    for dataframe in dataframes:\n",
    "        dataframe['is_alone'] = dataframe.apply(lambda x: is_alone(x), axis = 1)\n",
    "        \n",
    "#Aplicando a função\n",
    "create_alone([df_full])\n",
    "\n",
    "#Verificando o resultado\n",
    "df_full.is_alone.unique()"
   ]
  },
  {
   "cell_type": "code",
   "execution_count": 89,
   "metadata": {},
   "outputs": [
    {
     "name": "stdout",
     "output_type": "stream",
     "text": [
      "Shape original: (1309, 15)\n",
      "Shape após transformação: (1309, 39)\n"
     ]
    }
   ],
   "source": [
    "#Dummies\n",
    "to_dummy = ['Sex', 'Embarked', 'Cabin', 'treat']\n",
    "\n",
    "print(f'Shape original: {df_full.shape}')\n",
    "#print(f'Shape teste original: {df_test.shape}')\n",
    "\n",
    "df_full = pd.get_dummies(df_full, columns=to_dummy,drop_first = True)\n",
    "#df_test = pd.get_dummies(df_test, columns=to_dummy, drop_first = True)\n",
    "\n",
    "print(f'Shape após transformação: {df_full.shape}')\n",
    "#print(f'Shape teste original: {df_test.shape}')\n"
   ]
  },
  {
   "cell_type": "code",
   "execution_count": 90,
   "metadata": {},
   "outputs": [
    {
     "data": {
      "text/html": [
       "<div>\n",
       "<style scoped>\n",
       "    .dataframe tbody tr th:only-of-type {\n",
       "        vertical-align: middle;\n",
       "    }\n",
       "\n",
       "    .dataframe tbody tr th {\n",
       "        vertical-align: top;\n",
       "    }\n",
       "\n",
       "    .dataframe thead th {\n",
       "        text-align: right;\n",
       "    }\n",
       "</style>\n",
       "<table border=\"1\" class=\"dataframe\">\n",
       "  <thead>\n",
       "    <tr style=\"text-align: right;\">\n",
       "      <th></th>\n",
       "      <th>PassengerId</th>\n",
       "      <th>Pclass</th>\n",
       "      <th>Name</th>\n",
       "      <th>Age</th>\n",
       "      <th>SibSp</th>\n",
       "      <th>Parch</th>\n",
       "      <th>Ticket</th>\n",
       "      <th>Fare</th>\n",
       "      <th>Surname</th>\n",
       "      <th>Tipo</th>\n",
       "      <th>...</th>\n",
       "      <th>treat_Major.</th>\n",
       "      <th>treat_Master.</th>\n",
       "      <th>treat_Miss.</th>\n",
       "      <th>treat_Mlle.</th>\n",
       "      <th>treat_Mme.</th>\n",
       "      <th>treat_Mr.</th>\n",
       "      <th>treat_Mrs.</th>\n",
       "      <th>treat_Ms.</th>\n",
       "      <th>treat_Rev.</th>\n",
       "      <th>treat_Sir.</th>\n",
       "    </tr>\n",
       "  </thead>\n",
       "  <tbody>\n",
       "    <tr>\n",
       "      <th>0</th>\n",
       "      <td>1</td>\n",
       "      <td>3</td>\n",
       "      <td>Braund, Mr. Owen Harris</td>\n",
       "      <td>22.0</td>\n",
       "      <td>1</td>\n",
       "      <td>0</td>\n",
       "      <td>A/5 21171</td>\n",
       "      <td>7.2500</td>\n",
       "      <td>Braund</td>\n",
       "      <td>train</td>\n",
       "      <td>...</td>\n",
       "      <td>0</td>\n",
       "      <td>0</td>\n",
       "      <td>0</td>\n",
       "      <td>0</td>\n",
       "      <td>0</td>\n",
       "      <td>1</td>\n",
       "      <td>0</td>\n",
       "      <td>0</td>\n",
       "      <td>0</td>\n",
       "      <td>0</td>\n",
       "    </tr>\n",
       "    <tr>\n",
       "      <th>1</th>\n",
       "      <td>2</td>\n",
       "      <td>1</td>\n",
       "      <td>Cumings, Mrs. John Bradley (Florence Briggs Th...</td>\n",
       "      <td>38.0</td>\n",
       "      <td>1</td>\n",
       "      <td>0</td>\n",
       "      <td>PC 17599</td>\n",
       "      <td>71.2833</td>\n",
       "      <td>Cumings</td>\n",
       "      <td>train</td>\n",
       "      <td>...</td>\n",
       "      <td>0</td>\n",
       "      <td>0</td>\n",
       "      <td>0</td>\n",
       "      <td>0</td>\n",
       "      <td>0</td>\n",
       "      <td>0</td>\n",
       "      <td>1</td>\n",
       "      <td>0</td>\n",
       "      <td>0</td>\n",
       "      <td>0</td>\n",
       "    </tr>\n",
       "    <tr>\n",
       "      <th>2</th>\n",
       "      <td>3</td>\n",
       "      <td>3</td>\n",
       "      <td>Heikkinen, Miss. Laina</td>\n",
       "      <td>26.0</td>\n",
       "      <td>0</td>\n",
       "      <td>0</td>\n",
       "      <td>STON/O2. 3101282</td>\n",
       "      <td>7.9250</td>\n",
       "      <td>Heikkinen</td>\n",
       "      <td>train</td>\n",
       "      <td>...</td>\n",
       "      <td>0</td>\n",
       "      <td>0</td>\n",
       "      <td>1</td>\n",
       "      <td>0</td>\n",
       "      <td>0</td>\n",
       "      <td>0</td>\n",
       "      <td>0</td>\n",
       "      <td>0</td>\n",
       "      <td>0</td>\n",
       "      <td>0</td>\n",
       "    </tr>\n",
       "    <tr>\n",
       "      <th>3</th>\n",
       "      <td>4</td>\n",
       "      <td>1</td>\n",
       "      <td>Futrelle, Mrs. Jacques Heath (Lily May Peel)</td>\n",
       "      <td>35.0</td>\n",
       "      <td>1</td>\n",
       "      <td>0</td>\n",
       "      <td>113803</td>\n",
       "      <td>53.1000</td>\n",
       "      <td>Futrelle</td>\n",
       "      <td>train</td>\n",
       "      <td>...</td>\n",
       "      <td>0</td>\n",
       "      <td>0</td>\n",
       "      <td>0</td>\n",
       "      <td>0</td>\n",
       "      <td>0</td>\n",
       "      <td>0</td>\n",
       "      <td>1</td>\n",
       "      <td>0</td>\n",
       "      <td>0</td>\n",
       "      <td>0</td>\n",
       "    </tr>\n",
       "    <tr>\n",
       "      <th>4</th>\n",
       "      <td>5</td>\n",
       "      <td>3</td>\n",
       "      <td>Allen, Mr. William Henry</td>\n",
       "      <td>35.0</td>\n",
       "      <td>0</td>\n",
       "      <td>0</td>\n",
       "      <td>373450</td>\n",
       "      <td>8.0500</td>\n",
       "      <td>Allen</td>\n",
       "      <td>train</td>\n",
       "      <td>...</td>\n",
       "      <td>0</td>\n",
       "      <td>0</td>\n",
       "      <td>0</td>\n",
       "      <td>0</td>\n",
       "      <td>0</td>\n",
       "      <td>1</td>\n",
       "      <td>0</td>\n",
       "      <td>0</td>\n",
       "      <td>0</td>\n",
       "      <td>0</td>\n",
       "    </tr>\n",
       "  </tbody>\n",
       "</table>\n",
       "<p>5 rows × 39 columns</p>\n",
       "</div>"
      ],
      "text/plain": [
       "   PassengerId  Pclass                                               Name  \\\n",
       "0            1       3                            Braund, Mr. Owen Harris   \n",
       "1            2       1  Cumings, Mrs. John Bradley (Florence Briggs Th...   \n",
       "2            3       3                             Heikkinen, Miss. Laina   \n",
       "3            4       1       Futrelle, Mrs. Jacques Heath (Lily May Peel)   \n",
       "4            5       3                           Allen, Mr. William Henry   \n",
       "\n",
       "    Age  SibSp  Parch            Ticket     Fare    Surname   Tipo  ...  \\\n",
       "0  22.0      1      0         A/5 21171   7.2500     Braund  train  ...   \n",
       "1  38.0      1      0          PC 17599  71.2833    Cumings  train  ...   \n",
       "2  26.0      0      0  STON/O2. 3101282   7.9250  Heikkinen  train  ...   \n",
       "3  35.0      1      0            113803  53.1000   Futrelle  train  ...   \n",
       "4  35.0      0      0            373450   8.0500      Allen  train  ...   \n",
       "\n",
       "   treat_Major.  treat_Master.  treat_Miss.  treat_Mlle.  treat_Mme.  \\\n",
       "0             0              0            0            0           0   \n",
       "1             0              0            0            0           0   \n",
       "2             0              0            1            0           0   \n",
       "3             0              0            0            0           0   \n",
       "4             0              0            0            0           0   \n",
       "\n",
       "   treat_Mr.  treat_Mrs.  treat_Ms.  treat_Rev.  treat_Sir.  \n",
       "0          1           0          0           0           0  \n",
       "1          0           1          0           0           0  \n",
       "2          0           0          0           0           0  \n",
       "3          0           1          0           0           0  \n",
       "4          1           0          0           0           0  \n",
       "\n",
       "[5 rows x 39 columns]"
      ]
     },
     "execution_count": 90,
     "metadata": {},
     "output_type": "execute_result"
    }
   ],
   "source": [
    "df_full.head()"
   ]
  },
  {
   "cell_type": "code",
   "execution_count": 91,
   "metadata": {},
   "outputs": [
    {
     "name": "stdout",
     "output_type": "stream",
     "text": [
      "Treino: (891, 38)\n",
      "Teste: (418, 38)\n"
     ]
    }
   ],
   "source": [
    "#Retornando com df_train e df_test\n",
    "df_train = df_full.loc[df_full.Tipo == 'train',:].drop('Tipo',axis=1)\n",
    "df_test = df_full.loc[df_full.Tipo == 'test',:].drop('Tipo',axis = 1)\n",
    "\n",
    "#Verificando shapes\n",
    "print(f'Treino: {df_train.shape}')\n",
    "print(f'Teste: {df_test.shape}')"
   ]
  },
  {
   "cell_type": "code",
   "execution_count": 92,
   "metadata": {},
   "outputs": [
    {
     "data": {
      "text/html": [
       "<div>\n",
       "<style scoped>\n",
       "    .dataframe tbody tr th:only-of-type {\n",
       "        vertical-align: middle;\n",
       "    }\n",
       "\n",
       "    .dataframe tbody tr th {\n",
       "        vertical-align: top;\n",
       "    }\n",
       "\n",
       "    .dataframe thead th {\n",
       "        text-align: right;\n",
       "    }\n",
       "</style>\n",
       "<table border=\"1\" class=\"dataframe\">\n",
       "  <thead>\n",
       "    <tr style=\"text-align: right;\">\n",
       "      <th></th>\n",
       "      <th>PassengerId</th>\n",
       "      <th>Pclass</th>\n",
       "      <th>Name</th>\n",
       "      <th>Age</th>\n",
       "      <th>SibSp</th>\n",
       "      <th>Parch</th>\n",
       "      <th>Ticket</th>\n",
       "      <th>Fare</th>\n",
       "      <th>Surname</th>\n",
       "      <th>is_alone</th>\n",
       "      <th>...</th>\n",
       "      <th>treat_Major.</th>\n",
       "      <th>treat_Master.</th>\n",
       "      <th>treat_Miss.</th>\n",
       "      <th>treat_Mlle.</th>\n",
       "      <th>treat_Mme.</th>\n",
       "      <th>treat_Mr.</th>\n",
       "      <th>treat_Mrs.</th>\n",
       "      <th>treat_Ms.</th>\n",
       "      <th>treat_Rev.</th>\n",
       "      <th>treat_Sir.</th>\n",
       "    </tr>\n",
       "  </thead>\n",
       "  <tbody>\n",
       "    <tr>\n",
       "      <th>0</th>\n",
       "      <td>1</td>\n",
       "      <td>3</td>\n",
       "      <td>Braund, Mr. Owen Harris</td>\n",
       "      <td>-0.550185</td>\n",
       "      <td>1</td>\n",
       "      <td>0</td>\n",
       "      <td>A/5 21171</td>\n",
       "      <td>-0.502445</td>\n",
       "      <td>Braund</td>\n",
       "      <td>0</td>\n",
       "      <td>...</td>\n",
       "      <td>0</td>\n",
       "      <td>0</td>\n",
       "      <td>0</td>\n",
       "      <td>0</td>\n",
       "      <td>0</td>\n",
       "      <td>1</td>\n",
       "      <td>0</td>\n",
       "      <td>0</td>\n",
       "      <td>0</td>\n",
       "      <td>0</td>\n",
       "    </tr>\n",
       "    <tr>\n",
       "      <th>1</th>\n",
       "      <td>2</td>\n",
       "      <td>1</td>\n",
       "      <td>Cumings, Mrs. John Bradley (Florence Briggs Th...</td>\n",
       "      <td>0.661499</td>\n",
       "      <td>1</td>\n",
       "      <td>0</td>\n",
       "      <td>PC 17599</td>\n",
       "      <td>0.786845</td>\n",
       "      <td>Cumings</td>\n",
       "      <td>0</td>\n",
       "      <td>...</td>\n",
       "      <td>0</td>\n",
       "      <td>0</td>\n",
       "      <td>0</td>\n",
       "      <td>0</td>\n",
       "      <td>0</td>\n",
       "      <td>0</td>\n",
       "      <td>1</td>\n",
       "      <td>0</td>\n",
       "      <td>0</td>\n",
       "      <td>0</td>\n",
       "    </tr>\n",
       "    <tr>\n",
       "      <th>2</th>\n",
       "      <td>3</td>\n",
       "      <td>3</td>\n",
       "      <td>Heikkinen, Miss. Laina</td>\n",
       "      <td>-0.247264</td>\n",
       "      <td>0</td>\n",
       "      <td>0</td>\n",
       "      <td>STON/O2. 3101282</td>\n",
       "      <td>-0.488854</td>\n",
       "      <td>Heikkinen</td>\n",
       "      <td>1</td>\n",
       "      <td>...</td>\n",
       "      <td>0</td>\n",
       "      <td>0</td>\n",
       "      <td>1</td>\n",
       "      <td>0</td>\n",
       "      <td>0</td>\n",
       "      <td>0</td>\n",
       "      <td>0</td>\n",
       "      <td>0</td>\n",
       "      <td>0</td>\n",
       "      <td>0</td>\n",
       "    </tr>\n",
       "    <tr>\n",
       "      <th>3</th>\n",
       "      <td>4</td>\n",
       "      <td>1</td>\n",
       "      <td>Futrelle, Mrs. Jacques Heath (Lily May Peel)</td>\n",
       "      <td>0.434308</td>\n",
       "      <td>1</td>\n",
       "      <td>0</td>\n",
       "      <td>113803</td>\n",
       "      <td>0.420730</td>\n",
       "      <td>Futrelle</td>\n",
       "      <td>0</td>\n",
       "      <td>...</td>\n",
       "      <td>0</td>\n",
       "      <td>0</td>\n",
       "      <td>0</td>\n",
       "      <td>0</td>\n",
       "      <td>0</td>\n",
       "      <td>0</td>\n",
       "      <td>1</td>\n",
       "      <td>0</td>\n",
       "      <td>0</td>\n",
       "      <td>0</td>\n",
       "    </tr>\n",
       "    <tr>\n",
       "      <th>4</th>\n",
       "      <td>5</td>\n",
       "      <td>3</td>\n",
       "      <td>Allen, Mr. William Henry</td>\n",
       "      <td>0.434308</td>\n",
       "      <td>0</td>\n",
       "      <td>0</td>\n",
       "      <td>373450</td>\n",
       "      <td>-0.486337</td>\n",
       "      <td>Allen</td>\n",
       "      <td>1</td>\n",
       "      <td>...</td>\n",
       "      <td>0</td>\n",
       "      <td>0</td>\n",
       "      <td>0</td>\n",
       "      <td>0</td>\n",
       "      <td>0</td>\n",
       "      <td>1</td>\n",
       "      <td>0</td>\n",
       "      <td>0</td>\n",
       "      <td>0</td>\n",
       "      <td>0</td>\n",
       "    </tr>\n",
       "  </tbody>\n",
       "</table>\n",
       "<p>5 rows × 38 columns</p>\n",
       "</div>"
      ],
      "text/plain": [
       "   PassengerId  Pclass                                               Name  \\\n",
       "0            1       3                            Braund, Mr. Owen Harris   \n",
       "1            2       1  Cumings, Mrs. John Bradley (Florence Briggs Th...   \n",
       "2            3       3                             Heikkinen, Miss. Laina   \n",
       "3            4       1       Futrelle, Mrs. Jacques Heath (Lily May Peel)   \n",
       "4            5       3                           Allen, Mr. William Henry   \n",
       "\n",
       "        Age  SibSp  Parch            Ticket      Fare    Surname  is_alone  \\\n",
       "0 -0.550185      1      0         A/5 21171 -0.502445     Braund         0   \n",
       "1  0.661499      1      0          PC 17599  0.786845    Cumings         0   \n",
       "2 -0.247264      0      0  STON/O2. 3101282 -0.488854  Heikkinen         1   \n",
       "3  0.434308      1      0            113803  0.420730   Futrelle         0   \n",
       "4  0.434308      0      0            373450 -0.486337      Allen         1   \n",
       "\n",
       "   ...  treat_Major.  treat_Master.  treat_Miss.  treat_Mlle.  treat_Mme.  \\\n",
       "0  ...             0              0            0            0           0   \n",
       "1  ...             0              0            0            0           0   \n",
       "2  ...             0              0            1            0           0   \n",
       "3  ...             0              0            0            0           0   \n",
       "4  ...             0              0            0            0           0   \n",
       "\n",
       "   treat_Mr.  treat_Mrs.  treat_Ms.  treat_Rev.  treat_Sir.  \n",
       "0          1           0          0           0           0  \n",
       "1          0           1          0           0           0  \n",
       "2          0           0          0           0           0  \n",
       "3          0           1          0           0           0  \n",
       "4          1           0          0           0           0  \n",
       "\n",
       "[5 rows x 38 columns]"
      ]
     },
     "execution_count": 92,
     "metadata": {},
     "output_type": "execute_result"
    }
   ],
   "source": [
    "#Scaling de fare e age\n",
    "\n",
    "scaler = StandardScaler()\n",
    "\n",
    "def scaling(df):\n",
    "    df['Fare'] = scaler.fit_transform(df[['Fare']])\n",
    "    df['Age'] = scaler.fit_transform(df[['Age']])\n",
    "    return df\n",
    "\n",
    "#Aplicando\n",
    "df_train = scaling(df_train)\n",
    "df_test = scaling(df_test)\n",
    "\n",
    "#Verificando\n",
    "df_train.head()"
   ]
  },
  {
   "cell_type": "markdown",
   "metadata": {},
   "source": [
    "### Modelagem"
   ]
  },
  {
   "cell_type": "markdown",
   "metadata": {},
   "source": [
    "#### Definindo as features"
   ]
  },
  {
   "cell_type": "code",
   "execution_count": 93,
   "metadata": {},
   "outputs": [],
   "source": [
    "#X / Y\n",
    "y = labels\n",
    "x = df_train.drop(['PassengerId', 'Name', 'Ticket', 'Surname'], axis = 1)\n",
    "\n",
    "#Para posterior previsão\n",
    "df_test = df_test.drop(['PassengerId', 'Name', 'Ticket', 'Surname'], axis = 1)"
   ]
  },
  {
   "cell_type": "markdown",
   "metadata": {},
   "source": [
    "#### Regressão Logística\n",
    "Em um primeiro momento vamos utilizar regressão logística e avaliar os resultados."
   ]
  },
  {
   "cell_type": "code",
   "execution_count": 94,
   "metadata": {},
   "outputs": [],
   "source": [
    "splits = 10\n",
    "folds = StratifiedKFold(n_splits= splits)\n",
    "rl_model = LogisticRegression()\n",
    "#rl_model.fit(x, y)"
   ]
  },
  {
   "cell_type": "code",
   "execution_count": 95,
   "metadata": {},
   "outputs": [
    {
     "name": "stdout",
     "output_type": "stream",
     "text": [
      "Score médio para 10 splits: 0.8294722505958461\n"
     ]
    }
   ],
   "source": [
    "print(f'Score médio para {splits} splits: {cross_val_score(rl_model, x , y, cv=folds).mean()}')"
   ]
  },
  {
   "cell_type": "code",
   "execution_count": 96,
   "metadata": {},
   "outputs": [
    {
     "name": "stdout",
     "output_type": "stream",
     "text": [
      "              precision    recall  f1-score   support\n",
      "\n",
      "           0       0.87      0.85      0.86        55\n",
      "           1       0.78      0.80      0.79        35\n",
      "\n",
      "    accuracy                           0.83        90\n",
      "   macro avg       0.82      0.83      0.83        90\n",
      "weighted avg       0.83      0.83      0.83        90\n",
      "\n"
     ]
    }
   ],
   "source": [
    "#Utilizando validação\n",
    "x_train, x_test, y_train, y_test = train_test_split(x,y,stratify = y, train_size = 0.9)\n",
    "\n",
    "#Fit\n",
    "rl_model.fit(x_train, y_train)\n",
    "\n",
    "#Predict\n",
    "predictions = rl_model.predict(x_test)\n",
    "\n",
    "#Classification report\n",
    "print(classification_report(y_test, predictions))"
   ]
  },
  {
   "cell_type": "markdown",
   "metadata": {},
   "source": [
    "É possível notar que nosso modelo não está performando muito bem nas previsões de pessoas que sobreviveram. Vamos tentar contornar isso."
   ]
  },
  {
   "cell_type": "code",
   "execution_count": 97,
   "metadata": {},
   "outputs": [
    {
     "name": "stdout",
     "output_type": "stream",
     "text": [
      "              precision    recall  f1-score   support\n",
      "\n",
      "           0       0.77      0.96      0.85        55\n",
      "           1       0.90      0.54      0.68        35\n",
      "\n",
      "    accuracy                           0.80        90\n",
      "   macro avg       0.84      0.75      0.77        90\n",
      "weighted avg       0.82      0.80      0.79        90\n",
      "\n"
     ]
    }
   ],
   "source": [
    "#Usando pesos\n",
    "\n",
    "weights = {1: 0.1, 0: 0.2}\n",
    "\n",
    "rl_model = LogisticRegression(penalty='l1', class_weight=weights)\n",
    "rl_model.fit(x_train, y_train)\n",
    "\n",
    "#Predict\n",
    "predictions = rl_model.predict(x_test)\n",
    "\n",
    "#Classification report\n",
    "print(classification_report(y_test, predictions))"
   ]
  },
  {
   "cell_type": "markdown",
   "metadata": {},
   "source": [
    "Embora a precision da classe \"Sobreviveu\" tenha aumentado, o recall caiu bastante. Vamos tentar aplicar uma regra \"custom\" para sobreviventes. Como observado na EDA, a taxa de sobrevivência para mulheres é de aproximadamente 75% enquanto a taxa de sobrevivência para homens é de apenas 20%, vamos então aplicar condições as probabilidades de sobrevivência baseando-se apenas no sexo do passageiro."
   ]
  },
  {
   "cell_type": "code",
   "execution_count": 98,
   "metadata": {},
   "outputs": [
    {
     "name": "stdout",
     "output_type": "stream",
     "text": [
      "              precision    recall  f1-score   support\n",
      "\n",
      "           0       0.88      0.89      0.88        55\n",
      "           1       0.82      0.80      0.81        35\n",
      "\n",
      "    accuracy                           0.86        90\n",
      "   macro avg       0.85      0.85      0.85        90\n",
      "weighted avg       0.85      0.86      0.86        90\n",
      "\n"
     ]
    }
   ],
   "source": [
    "rl_model = LogisticRegression()\n",
    "rl_model.fit(x_train, y_train)\n",
    "\n",
    "#Condição customizada de sobrevivência\n",
    "def condition(x, male_cond, female_cond):\n",
    "    if x['Sex'] == 0:\n",
    "        if x['Probability'] > female_cond:\n",
    "            return 1\n",
    "        else:\n",
    "            return 0\n",
    "    else:\n",
    "        if x['Probability'] > male_cond:\n",
    "            return 1\n",
    "        else:\n",
    "            return 0\n",
    "\n",
    "#Função que aplica a condição\n",
    "def custom_survive(test, male_cond, female_cond):\n",
    "    prob_pred_1 = rl_model.predict_proba(test)[:,1]\n",
    "    survived_df = pd.DataFrame({'Sex': test.Sex_male,\n",
    "                               'Probability': prob_pred_1})\n",
    "    \n",
    "    survived_df['Survived'] = survived_df.apply(lambda x: condition(x, male_cond, female_cond), axis = 1)\n",
    "    \n",
    "    return survived_df\n",
    "\n",
    "#Gerando dados\n",
    "survived_info = custom_survive(x_test, 0.6, 0.4)\n",
    "\n",
    "#Predictions (Custom)\n",
    "predictions = survived_info['Survived']\n",
    "\n",
    "#Classification report\n",
    "print(classification_report(y_test, predictions))"
   ]
  },
  {
   "cell_type": "markdown",
   "metadata": {},
   "source": [
    "#### Regressão Logística: Submit\n",
    "Antes de avaliar outras possibilidades, vamos realizar um Submit no desafio para observar como nos saímos. Para um primeiro envio, vamos utilizar a regra custom que desenvolvemos anteriormente."
   ]
  },
  {
   "cell_type": "code",
   "execution_count": 99,
   "metadata": {},
   "outputs": [
    {
     "data": {
      "text/html": [
       "<div>\n",
       "<style scoped>\n",
       "    .dataframe tbody tr th:only-of-type {\n",
       "        vertical-align: middle;\n",
       "    }\n",
       "\n",
       "    .dataframe tbody tr th {\n",
       "        vertical-align: top;\n",
       "    }\n",
       "\n",
       "    .dataframe thead th {\n",
       "        text-align: right;\n",
       "    }\n",
       "</style>\n",
       "<table border=\"1\" class=\"dataframe\">\n",
       "  <thead>\n",
       "    <tr style=\"text-align: right;\">\n",
       "      <th></th>\n",
       "      <th>PassengerId</th>\n",
       "      <th>Survived</th>\n",
       "    </tr>\n",
       "  </thead>\n",
       "  <tbody>\n",
       "    <tr>\n",
       "      <th>0</th>\n",
       "      <td>892</td>\n",
       "      <td>0</td>\n",
       "    </tr>\n",
       "    <tr>\n",
       "      <th>1</th>\n",
       "      <td>893</td>\n",
       "      <td>1</td>\n",
       "    </tr>\n",
       "    <tr>\n",
       "      <th>2</th>\n",
       "      <td>894</td>\n",
       "      <td>0</td>\n",
       "    </tr>\n",
       "    <tr>\n",
       "      <th>3</th>\n",
       "      <td>895</td>\n",
       "      <td>0</td>\n",
       "    </tr>\n",
       "    <tr>\n",
       "      <th>4</th>\n",
       "      <td>896</td>\n",
       "      <td>1</td>\n",
       "    </tr>\n",
       "  </tbody>\n",
       "</table>\n",
       "</div>"
      ],
      "text/plain": [
       "   PassengerId  Survived\n",
       "0          892         0\n",
       "1          893         1\n",
       "2          894         0\n",
       "3          895         0\n",
       "4          896         1"
      ]
     },
     "execution_count": 99,
     "metadata": {},
     "output_type": "execute_result"
    }
   ],
   "source": [
    "#Fit com todos os dados\n",
    "rl_model.fit(x, y)\n",
    "\n",
    "#Predictions\n",
    "predictions = custom_survive(df_test, 0.6, 0.4)['Survived']\n",
    "\n",
    "#Submit\n",
    "submit = pd.read_csv('gender_submission.csv')\n",
    "submit['Survived'] = predictions\n",
    "submit.to_csv('submitLR.csv',index = False)\n",
    "\n",
    "#Observando\n",
    "submit.head()"
   ]
  },
  {
   "cell_type": "markdown",
   "metadata": {},
   "source": [
    "\n",
    "![Primeiro Submit](images/lr_score1.png)  \n",
    "  \n",
    "Até então obtivemos um Score (Accuracy) de 0.77990. A boa notícia é que o accuracy obtido no kaggle é muito semelhante ao obtido em nosso accuracy report, o que nos deixa um pouco mais tranquilos em relação a problemas de overfitting e data leakage (Porém, é sempre importante tomar cuidado com isso)"
   ]
  },
  {
   "cell_type": "markdown",
   "metadata": {},
   "source": [
    "Antes de partirmos para outros modelos, vamos tentar aplicar critérios mais rígidos para sobrevivência dos homens e ser mais benevolentes para sobrevivência de mulheres."
   ]
  },
  {
   "cell_type": "code",
   "execution_count": 100,
   "metadata": {},
   "outputs": [
    {
     "data": {
      "text/html": [
       "<div>\n",
       "<style scoped>\n",
       "    .dataframe tbody tr th:only-of-type {\n",
       "        vertical-align: middle;\n",
       "    }\n",
       "\n",
       "    .dataframe tbody tr th {\n",
       "        vertical-align: top;\n",
       "    }\n",
       "\n",
       "    .dataframe thead th {\n",
       "        text-align: right;\n",
       "    }\n",
       "</style>\n",
       "<table border=\"1\" class=\"dataframe\">\n",
       "  <thead>\n",
       "    <tr style=\"text-align: right;\">\n",
       "      <th></th>\n",
       "      <th>PassengerId</th>\n",
       "      <th>Survived</th>\n",
       "    </tr>\n",
       "  </thead>\n",
       "  <tbody>\n",
       "    <tr>\n",
       "      <th>0</th>\n",
       "      <td>892</td>\n",
       "      <td>0</td>\n",
       "    </tr>\n",
       "    <tr>\n",
       "      <th>1</th>\n",
       "      <td>893</td>\n",
       "      <td>1</td>\n",
       "    </tr>\n",
       "    <tr>\n",
       "      <th>2</th>\n",
       "      <td>894</td>\n",
       "      <td>0</td>\n",
       "    </tr>\n",
       "    <tr>\n",
       "      <th>3</th>\n",
       "      <td>895</td>\n",
       "      <td>0</td>\n",
       "    </tr>\n",
       "    <tr>\n",
       "      <th>4</th>\n",
       "      <td>896</td>\n",
       "      <td>1</td>\n",
       "    </tr>\n",
       "  </tbody>\n",
       "</table>\n",
       "</div>"
      ],
      "text/plain": [
       "   PassengerId  Survived\n",
       "0          892         0\n",
       "1          893         1\n",
       "2          894         0\n",
       "3          895         0\n",
       "4          896         1"
      ]
     },
     "execution_count": 100,
     "metadata": {},
     "output_type": "execute_result"
    }
   ],
   "source": [
    "male_cond = 0.8\n",
    "female_cond = 0.3\n",
    "\n",
    "#Predictions\n",
    "predictions = custom_survive(df_test, male_cond, female_cond)['Survived']\n",
    "\n",
    "#Submit\n",
    "submit = pd.read_csv('gender_submission.csv')\n",
    "submit['Survived'] = predictions\n",
    "submit.to_csv('submitLR.csv',index = False)\n",
    "\n",
    "#Observando\n",
    "submit.head()\n"
   ]
  },
  {
   "cell_type": "markdown",
   "metadata": {},
   "source": [
    "\n",
    "![Primeiro Submit](images/lr_score2.png)  \n",
    "  \n",
    "Não houve melhoria em nosso score, vamos por ultimo tentar utilizar a predição padrão da regressão logística"
   ]
  },
  {
   "cell_type": "code",
   "execution_count": 101,
   "metadata": {},
   "outputs": [
    {
     "data": {
      "text/html": [
       "<div>\n",
       "<style scoped>\n",
       "    .dataframe tbody tr th:only-of-type {\n",
       "        vertical-align: middle;\n",
       "    }\n",
       "\n",
       "    .dataframe tbody tr th {\n",
       "        vertical-align: top;\n",
       "    }\n",
       "\n",
       "    .dataframe thead th {\n",
       "        text-align: right;\n",
       "    }\n",
       "</style>\n",
       "<table border=\"1\" class=\"dataframe\">\n",
       "  <thead>\n",
       "    <tr style=\"text-align: right;\">\n",
       "      <th></th>\n",
       "      <th>PassengerId</th>\n",
       "      <th>Survived</th>\n",
       "    </tr>\n",
       "  </thead>\n",
       "  <tbody>\n",
       "    <tr>\n",
       "      <th>0</th>\n",
       "      <td>892</td>\n",
       "      <td>0</td>\n",
       "    </tr>\n",
       "    <tr>\n",
       "      <th>1</th>\n",
       "      <td>893</td>\n",
       "      <td>1</td>\n",
       "    </tr>\n",
       "    <tr>\n",
       "      <th>2</th>\n",
       "      <td>894</td>\n",
       "      <td>0</td>\n",
       "    </tr>\n",
       "    <tr>\n",
       "      <th>3</th>\n",
       "      <td>895</td>\n",
       "      <td>0</td>\n",
       "    </tr>\n",
       "    <tr>\n",
       "      <th>4</th>\n",
       "      <td>896</td>\n",
       "      <td>1</td>\n",
       "    </tr>\n",
       "  </tbody>\n",
       "</table>\n",
       "</div>"
      ],
      "text/plain": [
       "   PassengerId  Survived\n",
       "0          892         0\n",
       "1          893         1\n",
       "2          894         0\n",
       "3          895         0\n",
       "4          896         1"
      ]
     },
     "execution_count": 101,
     "metadata": {},
     "output_type": "execute_result"
    }
   ],
   "source": [
    "#Fit com todos os dados\n",
    "rl_model.fit(x, y)\n",
    "\n",
    "#Predictions\n",
    "predictions = rl_model.predict(df_test)\n",
    "\n",
    "#Submit\n",
    "submit = pd.read_csv('gender_submission.csv')\n",
    "submit['Survived'] = predictions\n",
    "submit.to_csv('submitLR.csv',index = False)\n",
    "\n",
    "#Observando\n",
    "submit.head()\n"
   ]
  },
  {
   "cell_type": "markdown",
   "metadata": {},
   "source": [
    "#### Revisando Features\n",
    "A escalada pelo Leaderboard é pautada em refatoração e revisão das decisões tomadas, aqui não seria diferente. Vamos tentar dar uma força ao nosso modelo de regressão logística."
   ]
  },
  {
   "cell_type": "markdown",
   "metadata": {},
   "source": [
    "**Removendo Features provenientes de \"treatment\" e \"Cabin\"**"
   ]
  },
  {
   "cell_type": "code",
   "execution_count": 107,
   "metadata": {},
   "outputs": [],
   "source": [
    "new_features = ['Pclass', 'Age', 'SibSp', 'Parch', 'Fare', 'is_alone', 'Sex_male', 'Embarked_Q', 'Embarked_S']\n",
    "\n",
    "df_train = df_train[new_features]\n",
    "df_test = df_train[new_features]"
   ]
  },
  {
   "cell_type": "markdown",
   "metadata": {},
   "source": [
    "Criando novas features:\n",
    "- family_size (Tamanho da família)\n",
    "- Definir faixas para \"Fare\"\n",
    "- Definir faixas para \"Age"
   ]
  },
  {
   "cell_type": "code",
   "execution_count": 116,
   "metadata": {},
   "outputs": [
    {
     "data": {
      "text/html": [
       "<div>\n",
       "<style scoped>\n",
       "    .dataframe tbody tr th:only-of-type {\n",
       "        vertical-align: middle;\n",
       "    }\n",
       "\n",
       "    .dataframe tbody tr th {\n",
       "        vertical-align: top;\n",
       "    }\n",
       "\n",
       "    .dataframe thead th {\n",
       "        text-align: right;\n",
       "    }\n",
       "</style>\n",
       "<table border=\"1\" class=\"dataframe\">\n",
       "  <thead>\n",
       "    <tr style=\"text-align: right;\">\n",
       "      <th></th>\n",
       "      <th>Pclass</th>\n",
       "      <th>Age</th>\n",
       "      <th>SibSp</th>\n",
       "      <th>Parch</th>\n",
       "      <th>Fare</th>\n",
       "      <th>is_alone</th>\n",
       "      <th>Sex_male</th>\n",
       "      <th>Embarked_Q</th>\n",
       "      <th>Embarked_S</th>\n",
       "      <th>family_size</th>\n",
       "      <th>Age_bin</th>\n",
       "      <th>Fare_bin</th>\n",
       "    </tr>\n",
       "  </thead>\n",
       "  <tbody>\n",
       "    <tr>\n",
       "      <th>0</th>\n",
       "      <td>3</td>\n",
       "      <td>-0.550185</td>\n",
       "      <td>1</td>\n",
       "      <td>0</td>\n",
       "      <td>-0.502445</td>\n",
       "      <td>0</td>\n",
       "      <td>1</td>\n",
       "      <td>0</td>\n",
       "      <td>1</td>\n",
       "      <td>1</td>\n",
       "      <td>2</td>\n",
       "      <td>1</td>\n",
       "    </tr>\n",
       "    <tr>\n",
       "      <th>1</th>\n",
       "      <td>1</td>\n",
       "      <td>0.661499</td>\n",
       "      <td>1</td>\n",
       "      <td>0</td>\n",
       "      <td>0.786845</td>\n",
       "      <td>0</td>\n",
       "      <td>0</td>\n",
       "      <td>0</td>\n",
       "      <td>0</td>\n",
       "      <td>1</td>\n",
       "      <td>3</td>\n",
       "      <td>1</td>\n",
       "    </tr>\n",
       "    <tr>\n",
       "      <th>2</th>\n",
       "      <td>3</td>\n",
       "      <td>-0.247264</td>\n",
       "      <td>0</td>\n",
       "      <td>0</td>\n",
       "      <td>-0.488854</td>\n",
       "      <td>1</td>\n",
       "      <td>0</td>\n",
       "      <td>0</td>\n",
       "      <td>1</td>\n",
       "      <td>0</td>\n",
       "      <td>2</td>\n",
       "      <td>1</td>\n",
       "    </tr>\n",
       "    <tr>\n",
       "      <th>3</th>\n",
       "      <td>1</td>\n",
       "      <td>0.434308</td>\n",
       "      <td>1</td>\n",
       "      <td>0</td>\n",
       "      <td>0.420730</td>\n",
       "      <td>0</td>\n",
       "      <td>0</td>\n",
       "      <td>0</td>\n",
       "      <td>1</td>\n",
       "      <td>1</td>\n",
       "      <td>3</td>\n",
       "      <td>1</td>\n",
       "    </tr>\n",
       "    <tr>\n",
       "      <th>4</th>\n",
       "      <td>3</td>\n",
       "      <td>0.434308</td>\n",
       "      <td>0</td>\n",
       "      <td>0</td>\n",
       "      <td>-0.486337</td>\n",
       "      <td>1</td>\n",
       "      <td>1</td>\n",
       "      <td>0</td>\n",
       "      <td>1</td>\n",
       "      <td>0</td>\n",
       "      <td>3</td>\n",
       "      <td>1</td>\n",
       "    </tr>\n",
       "  </tbody>\n",
       "</table>\n",
       "</div>"
      ],
      "text/plain": [
       "   Pclass       Age  SibSp  Parch      Fare  is_alone  Sex_male  Embarked_Q  \\\n",
       "0       3 -0.550185      1      0 -0.502445         0         1           0   \n",
       "1       1  0.661499      1      0  0.786845         0         0           0   \n",
       "2       3 -0.247264      0      0 -0.488854         1         0           0   \n",
       "3       1  0.434308      1      0  0.420730         0         0           0   \n",
       "4       3  0.434308      0      0 -0.486337         1         1           0   \n",
       "\n",
       "   Embarked_S  family_size Age_bin Fare_bin  \n",
       "0           1            1       2        1  \n",
       "1           0            1       3        1  \n",
       "2           1            0       2        1  \n",
       "3           1            1       3        1  \n",
       "4           1            0       3        1  "
      ]
     },
     "execution_count": 116,
     "metadata": {},
     "output_type": "execute_result"
    }
   ],
   "source": [
    "for df in [df_train, df_test]:\n",
    "    df['family_size'] = df['SibSp'] + df['Parch']\n",
    "    df['Age_bin'] = pd.cut(df.Age, 5, labels = [1,2,3,4,5])\n",
    "    df['Fare_bin'] = pd.cut(df.Fare, 5, labels = [1,2,3,4,5])\n",
    "\n",
    "#Verificando\n",
    "df_train.head()"
   ]
  },
  {
   "cell_type": "markdown",
   "metadata": {},
   "source": [
    "#### Modelo Regressão Logística com novas features"
   ]
  },
  {
   "cell_type": "code",
   "execution_count": 135,
   "metadata": {},
   "outputs": [
    {
     "name": "stdout",
     "output_type": "stream",
     "text": [
      "              precision    recall  f1-score   support\n",
      "\n",
      "           0       0.87      0.85      0.86        55\n",
      "           1       0.78      0.80      0.79        35\n",
      "\n",
      "    accuracy                           0.83        90\n",
      "   macro avg       0.82      0.83      0.83        90\n",
      "weighted avg       0.83      0.83      0.83        90\n",
      "\n"
     ]
    }
   ],
   "source": [
    "x = df_train[['Pclass', 'SibSp', 'Parch', 'is_alone', 'Sex_male', 'Embarked_Q', 'Embarked_S', 'family_size', 'Age_bin', 'Fare_bin']]\n",
    "y = labels\n",
    "\n",
    "male_cond = 0.6\n",
    "female_cond = 0.4\n",
    "\n",
    "#Utilizando validação\n",
    "x_train, x_test, y_train, y_test = train_test_split(x,y,stratify = y, train_size = 0.9)\n",
    "\n",
    "#fit\n",
    "rl_model.fit(x_train, y_train)\n",
    "\n",
    "#Predictions\n",
    "predictions = custom_survive(x_test, male_cond, female_cond)['Survived']\n",
    "\n",
    "#Classification report\n",
    "print(classification_report(y_test, predictions))"
   ]
  }
 ],
 "metadata": {
  "kernelspec": {
   "display_name": "Python 3",
   "language": "python",
   "name": "python3"
  },
  "language_info": {
   "codemirror_mode": {
    "name": "ipython",
    "version": 3
   },
   "file_extension": ".py",
   "mimetype": "text/x-python",
   "name": "python",
   "nbconvert_exporter": "python",
   "pygments_lexer": "ipython3",
   "version": "3.7.4"
  }
 },
 "nbformat": 4,
 "nbformat_minor": 4
}
